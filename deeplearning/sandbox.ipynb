{
 "cells": [
  {
   "cell_type": "code",
   "execution_count": 11,
   "metadata": {},
   "outputs": [],
   "source": [
    "import numpy as np\n",
    "import matplotlib.pyplot as plt\n",
    "import importlib\n",
    "import gym \n",
    "\n",
    "import deepQ_agent\n",
    "from src import utils\n",
    "importlib.reload(deepQ_agent)\n",
    "importlib.reload(utils)\n",
    "\n",
    "from deepQ_agent import Network, Agent\n",
    "from src.utils import plot_learning_curve\n"
   ]
  },
  {
   "cell_type": "code",
   "execution_count": 12,
   "metadata": {},
   "outputs": [
    {
     "ename": "TypeError",
     "evalue": "plot_learning_curve() missing 1 required positional argument: 'epsilons'",
     "output_type": "error",
     "traceback": [
      "\u001b[1;31m---------------------------------------------------------------------------\u001b[0m",
      "\u001b[1;31mTypeError\u001b[0m                                 Traceback (most recent call last)",
      "\u001b[1;32m<ipython-input-12-9b51686ea8c4>\u001b[0m in \u001b[0;36m<module>\u001b[1;34m\u001b[0m\n\u001b[0;32m     31\u001b[0m     \u001b[0mepsilons\u001b[0m\u001b[1;33m.\u001b[0m\u001b[0mappend\u001b[0m\u001b[1;33m(\u001b[0m\u001b[0mq_agent\u001b[0m\u001b[1;33m.\u001b[0m\u001b[0mepsilon\u001b[0m\u001b[1;33m)\u001b[0m\u001b[1;33m\u001b[0m\u001b[1;33m\u001b[0m\u001b[0m\n\u001b[0;32m     32\u001b[0m \u001b[1;33m\u001b[0m\u001b[0m\n\u001b[1;32m---> 33\u001b[1;33m \u001b[0mplot_learning_curve\u001b[0m\u001b[1;33m(\u001b[0m\u001b[0mscores\u001b[0m\u001b[1;33m,\u001b[0m \u001b[0mepsilons\u001b[0m\u001b[1;33m)\u001b[0m\u001b[1;33m\u001b[0m\u001b[1;33m\u001b[0m\u001b[0m\n\u001b[0m",
      "\u001b[1;31mTypeError\u001b[0m: plot_learning_curve() missing 1 required positional argument: 'epsilons'"
     ]
    }
   ],
   "source": [
    "env = gym.make(\"CartPole-v1\")\n",
    "input_dims = env.observation_space.shape\n",
    "n_actions = env.action_space.n\n",
    "\n",
    "# initialise the agent with these values \n",
    "q_agent = Agent(n_actions, input_dims, d_eps=0.9999999)\n",
    "\n",
    "# let the agent play the game \n",
    "n_games = 100\n",
    "scores = []\n",
    "win_pct = []\n",
    "epsilons = []\n",
    "\n",
    "for i in range(n_games):\n",
    "    terminated = False \n",
    "    state, info = env.reset()\n",
    "    score = 0\n",
    "    action = 0\n",
    "\n",
    "    while not terminated: \n",
    "        action_taken = q_agent.choose_action(state)\n",
    "        \n",
    "        new_state, reward, terminated, truncated, info = env.step(action_taken)\n",
    "        # update Q\n",
    "        q_agent.learn(state, new_state, action_taken, reward)\n",
    "        # update the state\n",
    "        state = new_state\n",
    "        score += reward\n",
    "\n",
    "    scores.append(score)\n",
    "    epsilons.append(q_agent.epsilon)\n",
    "\n",
    "plot_learning_curve(scores, epsilons)"
   ]
  },
  {
   "cell_type": "code",
   "execution_count": null,
   "metadata": {},
   "outputs": [],
   "source": []
  }
 ],
 "metadata": {
  "kernelspec": {
   "display_name": "dq-env",
   "language": "python",
   "name": "python3"
  },
  "language_info": {
   "codemirror_mode": {
    "name": "ipython",
    "version": 3
   },
   "file_extension": ".py",
   "mimetype": "text/x-python",
   "name": "python",
   "nbconvert_exporter": "python",
   "pygments_lexer": "ipython3",
   "version": "3.6.8"
  },
  "orig_nbformat": 4,
  "vscode": {
   "interpreter": {
    "hash": "8b5e4816828e6d401269dbe35b7d3401d532c5788b865d87f5e69f45ad550ab9"
   }
  }
 },
 "nbformat": 4,
 "nbformat_minor": 2
}
